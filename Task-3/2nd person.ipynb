{
 "cells": [
  {
   "cell_type": "code",
   "execution_count": null,
   "metadata": {},
   "outputs": [],
   "source": [
    "import cv2\n",
    "import socket\n",
    "import base64\n",
    "import os\n",
    "import time\n",
    "import threading"
   ]
  },
  {
   "cell_type": "code",
   "execution_count": null,
   "metadata": {},
   "outputs": [],
   "source": [
    "def videoreciver():\n",
    "    s=socket.socket()\n",
    "    ip=\"13.126.138.162\"\n",
    "    port=2026\n",
    "    s.connect((ip,port))\n",
    "    i=0\n",
    "    while True:\n",
    "        time.sleep(0.8)\n",
    "        try:\n",
    "            data =s.recv(100000000)\n",
    "            #print(data)\n",
    "            imgdata = base64.b64decode(data)\n",
    "            filename=\"{}.jpg\".format(i)\n",
    "            with open(filename, 'wb') as f:\n",
    "                f.write(imgdata)\n",
    "\n",
    "            image= \"image\"+\"{}\".format(i)\n",
    "            image=cv2.imread(filename)\n",
    "\n",
    "            print(image)\n",
    "            cv2.imshow('Digamber Calling...',image)\n",
    "            os.remove(\"{}.jpg\".format(i))\n",
    "            i=i+1\n",
    "            if cv2.waitKey(100) == 13:\n",
    "                break\n",
    "\n",
    "        except:\n",
    "            pass\n",
    "    cv2.destroyAllWindows()"
   ]
  },
  {
   "cell_type": "code",
   "execution_count": null,
   "metadata": {},
   "outputs": [],
   "source": [
    "def videosender():\n",
    "    #sending video\n",
    "    s=socket.socket()\n",
    "    ip=\"13.126.138.162\"\n",
    "    port=2024\n",
    "    s.connect((ip,port))\n",
    "    cap=cv2.VideoCapture(0)\n",
    "    while True:\n",
    "        time.sleep(0.8)\n",
    "        ret,photo=cap.read()\n",
    "        cv2.imwrite(\"videocall.jpg\",photo)\n",
    "        with open(\"videocall.jpg\", 'rb') as f:\n",
    "            image_encoded=base64.b64encode(f.read()) #encoding image...\n",
    "        s.send(image_encoded)"
   ]
  },
  {
   "cell_type": "code",
   "execution_count": null,
   "metadata": {},
   "outputs": [],
   "source": [
    "t_recv=threading.Thread(target=videoreciver)\n",
    "t_send=threading.Thread(target=videosender)\n",
    "t_recv.start()\n",
    "t_send.start()"
   ]
  },
  {
   "cell_type": "code",
   "execution_count": null,
   "metadata": {},
   "outputs": [],
   "source": []
  }
 ],
 "metadata": {
  "kernelspec": {
   "display_name": "Python 3",
   "language": "python",
   "name": "python3"
  },
  "language_info": {
   "codemirror_mode": {
    "name": "ipython",
    "version": 3
   },
   "file_extension": ".py",
   "mimetype": "text/x-python",
   "name": "python",
   "nbconvert_exporter": "python",
   "pygments_lexer": "ipython3",
   "version": "3.8.3"
  }
 },
 "nbformat": 4,
 "nbformat_minor": 4
}
